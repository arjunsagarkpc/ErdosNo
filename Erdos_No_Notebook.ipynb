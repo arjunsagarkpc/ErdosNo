{
 "cells": [
  {
   "cell_type": "code",
   "execution_count": 1,
   "metadata": {},
   "outputs": [
    {
     "data": {
      "image/png": "[encoded data removed]",
      "text/plain": [
       "<Figure size 432x288 with 1 Axes>"
      ]
     },
     "metadata": {},
     "output_type": "display_data"
    }
   ],
   "source": [
    "import networkx as nx\n",
    "import numpy as np\n",
    "import matplotlib.pyplot as plt\n",
    "\n",
    "import csv\n",
    "from csv import reader\n",
    "\n",
    "row_count = 511\n",
    "edge=[]\n",
    "\n",
    "with open('final.csv') as f:\n",
    "    reader = csv.reader(f, delimiter = ' ')\n",
    "    for x in range(row_count):\n",
    "        row = next(reader, None)\n",
    "        row_length = len(row)\n",
    "        for y in range(1,row_length):\n",
    "            edge.append(((x+1),int(row[y])))\n",
    "     \n",
    "    G = nx.Graph()\n",
    "    G.add_edges_from(edge)\n",
    "    nx.draw(G)\n",
    "    \n"
   ]
  },
  {
   "cell_type": "code",
   "execution_count": 2,
   "metadata": {},
   "outputs": [],
   "source": [
    "#nx.closeness_centrality(G)\n",
    "#len(between_centrality_dict)"
   ]
  },
  {
   "cell_type": "code",
   "execution_count": 3,
   "metadata": {},
   "outputs": [],
   "source": [
    "import csv\n",
    "\n",
    "from csv import reader\n",
    "\n",
    "names_dictionary = {}\n",
    "with open (\"Raw_Data.csv\", 'r') as f:\n",
    "    reader = csv.reader(f, delimiter = ' ')\n",
    "    first_line = next(reader, None)\n",
    "\n",
    "    if first_line:\n",
    "        row_count = int(first_line[0])\n",
    "\n",
    "\n",
    "        for index in range(row_count):\n",
    "            line1 = next(reader, None)\n",
    "            serial_no = int(line1[0])\n",
    "            name = line1[3:5]\n",
    "\n",
    "            names_dictionary_temp = {serial_no: name}\n",
    "            names_dictionary.update(names_dictionary_temp)\n",
    "            line2 = next(reader, None)\n",
    "        "
   ]
  },
  {
   "cell_type": "code",
   "execution_count": 4,
   "metadata": {},
   "outputs": [
    {
     "data": {
      "text/plain": [
       "0.28203036561782574"
      ]
     },
     "execution_count": 4,
     "metadata": {},
     "output_type": "execute_result"
    }
   ],
   "source": [
    "nx.average_clustering(G)"
   ]
  },
  {
   "cell_type": "code",
   "execution_count": 5,
   "metadata": {},
   "outputs": [
    {
     "data": {
      "text/plain": [
       "matrix([[0, 1, 1, ..., 0, 0, 0],\n",
       "        [1, 0, 0, ..., 0, 0, 0],\n",
       "        [1, 0, 0, ..., 0, 0, 0],\n",
       "        ...,\n",
       "        [0, 0, 0, ..., 0, 0, 0],\n",
       "        [0, 0, 0, ..., 0, 0, 0],\n",
       "        [0, 0, 0, ..., 0, 0, 0]], dtype=int64)"
      ]
     },
     "execution_count": 5,
     "metadata": {},
     "output_type": "execute_result"
    }
   ],
   "source": [
    "adj_matrix = nx.adjacency_matrix(G)\n",
    "adj_matrix.todense()"
   ]
  },
  {
   "cell_type": "code",
   "execution_count": 6,
   "metadata": {},
   "outputs": [
    {
     "data": {
      "text/plain": [
       "(474, 474)"
      ]
     },
     "execution_count": 6,
     "metadata": {},
     "output_type": "execute_result"
    }
   ],
   "source": [
    "adj_matrix.shape"
   ]
  },
  {
   "cell_type": "code",
   "execution_count": 7,
   "metadata": {},
   "outputs": [
    {
     "data": {
      "text/plain": [
       "0.21812899966318625"
      ]
     },
     "execution_count": 7,
     "metadata": {},
     "output_type": "execute_result"
    }
   ],
   "source": [
    "nx.transitivity(G)"
   ]
  },
  {
   "cell_type": "code",
   "execution_count": 8,
   "metadata": {},
   "outputs": [],
   "source": [
    "node_list = []\n",
    "for x in range(len(edge)):\n",
    "    node_list.append(edge[x][0])"
   ]
  },
  {
   "cell_type": "code",
   "execution_count": 10,
   "metadata": {},
   "outputs": [],
   "source": [
    "node_list\n",
    "unique_nodes = list(set(node_list))\n",
    "#unique_nodes\n"
   ]
  },
  {
   "cell_type": "code",
   "execution_count": 39,
   "metadata": {},
   "outputs": [],
   "source": [
    "degCent = nx.degree_centrality(G)\n",
    "closeCent = nx.closeness_centrality(G, wf_improved =False)\n",
    "closeCent = nx.closeness_centrality(G, wf_improved =True)\n",
    "betwCent = nx.betweenness_centrality(G, k = None)"
   ]
  },
  {
   "cell_type": "code",
   "execution_count": 12,
   "metadata": {},
   "outputs": [],
   "source": [
    "node_list = []\n",
    "\n",
    "for x in range(len(edge)):\n",
    "    node_list.append(edge[x][0])\n",
    "    \n",
    "unique_nodes = list(set(node_list)) \n",
    "\n",
    "degCent = nx.degree_centrality(G)\n",
    "degree_centrality_list = []\n",
    "degree_centrality_dict = {}\n",
    "\n",
    "closeCent = nx.closeness_centrality(G, wf_improved =True)\n",
    "closeness_centrality_list = []\n",
    "closeness_centrality_dict = {}\n",
    "\n",
    "betwCent = nx.betweenness_centrality(G, k = None)\n",
    "between_centrality_list = []\n",
    "between_centrality_dict = {}\n",
    "\n",
    "clustering_coefficient_list = []\n",
    "clustering_coefficient_dict = {}\n",
    "\n",
    "\n",
    "\n",
    "for x in range(len(unique_nodes)):\n",
    "    \n",
    "    degree_centrality_list.append(degCent[unique_nodes[x]])\n",
    "    degree_centrality_dict[unique_nodes[x]] = degree_centrality_list[x]\n",
    "    \n",
    "    closeness_centrality_list.append(closeCent[unique_nodes[x]]) \n",
    "    closeness_centrality_dict[unique_nodes[x]] = closeness_centrality_list[x]\n",
    "\n",
    "    between_centrality_list.append(betwCent[unique_nodes[x]])\n",
    "    between_centrality_dict[unique_nodes[x]] = between_centrality_list[x]    \n",
    "    \n",
    "    clustering_coefficient_list.append(nx.clustering(G,unique_nodes[x]))\n",
    "    clustering_coefficient_dict[unique_nodes[x]] = clustering_coefficient_list[x]"
   ]
  },
  {
   "cell_type": "code",
   "execution_count": 14,
   "metadata": {},
   "outputs": [],
   "source": [
    "degree_centrality_dict = nx.degree_centrality(G)\n",
    "between_centrality_dict = nx.betweenness_centrality(G)\n",
    "closeness_centrality_dict = nx.closeness_centrality(G)\n",
    "\n",
    "unique_nodes = list(degree_centrality_dict.keys())\n",
    "\n",
    "for x in range(len(unique_nodes)):\n",
    "    \n",
    "    degree_centrality_list.append(degree_centrality_dict[unique_nodes[x]])  \n",
    "    closeness_centrality_list.append(closeness_centrality_dict[unique_nodes[x]]) \n",
    "    between_centrality_list.append(between_centrality_dict[unique_nodes[x]])"
   ]
  },
  {
   "cell_type": "code",
   "execution_count": 15,
   "metadata": {},
   "outputs": [
    {
     "data": {
      "text/plain": [
       "<AxesSubplot:xlabel='Degree centrality'>"
      ]
     },
     "execution_count": 15,
     "metadata": {},
     "output_type": "execute_result"
    },
    {
     "data": {
      "image/png": "[encoded data removed]",
      "text/plain": [
       "<Figure size 432x288 with 1 Axes>"
      ]
     },
     "metadata": {
      "needs_background": "light"
     },
     "output_type": "display_data"
    }
   ],
   "source": [
    "import seaborn as sns\n",
    "sns.distplot(degree_centrality_list, bins = 25, color = 'g', axlabel = \"Degree centrality\")"
   ]
  },
  {
   "cell_type": "code",
   "execution_count": 16,
   "metadata": {},
   "outputs": [
    {
     "data": {
      "text/plain": [
       "<AxesSubplot:xlabel='Closeness centrality'>"
      ]
     },
     "execution_count": 16,
     "metadata": {},
     "output_type": "execute_result"
    },
    {
     "data": {
      "image/png": "[encoded data removed]",
      "text/plain": [
       "<Figure size 432x288 with 1 Axes>"
      ]
     },
     "metadata": {
      "needs_background": "light"
     },
     "output_type": "display_data"
    }
   ],
   "source": [
    "import seaborn as sns\n",
    "sns.distplot(closeness_centrality_list, bins = 25, color = 'b', axlabel = \"Closeness centrality\")"
   ]
  },
  {
   "cell_type": "code",
   "execution_count": 17,
   "metadata": {},
   "outputs": [
    {
     "data": {
      "text/plain": [
       "<AxesSubplot:xlabel='Betweenness Centrality'>"
      ]
     },
     "execution_count": 17,
     "metadata": {},
     "output_type": "execute_result"
    },
    {
     "data": {
      "image/png": "[encoded data removed]",
      "text/plain": [
       "<Figure size 432x288 with 1 Axes>"
      ]
     },
     "metadata": {
      "needs_background": "light"
     },
     "output_type": "display_data"
    }
   ],
   "source": [
    "import seaborn as sns\n",
    "sns.distplot(between_centrality_list, bins = 20, color = 'r', axlabel = \"Betweenness Centrality\")"
   ]
  },
  {
   "cell_type": "code",
   "execution_count": 40,
   "metadata": {},
   "outputs": [],
   "source": [
    "from collections import Counter\n",
    "\n",
    "k = Counter(degree_centrality_dict) \n",
    "high_degree = k.most_common(10) \n",
    "\n",
    "l = Counter(between_centrality_dict)\n",
    "high_between = l.most_common(10)\n",
    "\n",
    "m = Counter(closeness_centrality_dict)\n",
    "high_closeness = m.most_common(10)\n",
    "\n",
    "def Convert(tup, di): \n",
    "    di = dict(tup) \n",
    "    return di \n",
    "      \n",
    "temp_dict_degree = {} \n",
    "top_ten_degree_centrality_dictionary = Convert(high_degree, temp_dict_degree)\n",
    "\n",
    "keys_one = set(top_ten_degree_centrality_dictionary.keys())\n",
    "keys_two = set(names_dictionary.keys())\n",
    "same_keys = keys_one.intersection(keys_two)\n",
    "result_degree = list(same_keys)\n",
    "\n",
    "temp_dict_between = {}\n",
    "top_ten_between_centrality_dictionary = Convert(high_between, temp_dict_between)\n",
    "\n",
    "keys_one = set(top_ten_between_centrality_dictionary.keys())\n",
    "keys_two = set(names_dictionary.keys())\n",
    "same_keys = keys_one.intersection(keys_two)\n",
    "result_between = list(same_keys)\n",
    "\n",
    "temp_dict_closeness = {}\n",
    "top_ten_closeness_centrality_dictionary = Convert(high_closeness, temp_dict_closeness)\n",
    "\n",
    "keys_one = set(top_ten_closeness_centrality_dictionary.keys())\n",
    "keys_two = set(names_dictionary.keys())\n",
    "same_keys = keys_one.intersection(keys_two)\n",
    "result_closeness = list(same_keys)\n",
    "\n",
    "degree_centrality_top_ten = []\n",
    "between_centrality_top_ten = []\n",
    "closeness_centrality_top_ten = []\n",
    "\n",
    "\n",
    "for x in result_degree:\n",
    "    degree_centrality_top_ten.append((names_dictionary[x],top_ten_degree_centrality_dictionary[x]))\n",
    "    \n",
    "for x in result_between:\n",
    "    between_centrality_top_ten.append((names_dictionary[x], top_ten_between_centrality_dictionary[x]))\n",
    "\n",
    "for x in result_closeness:\n",
    "    closeness_centrality_top_ten.append((names_dictionary[x], top_ten_closeness_centrality_dictionary[x]))\n",
    "        "
   ]
  },
  {
   "cell_type": "code",
   "execution_count": 41,
   "metadata": {},
   "outputs": [],
   "source": [
    "deg = sorted(degree_centrality_top_ten, key = lambda tup:tup[1], reverse=True)\n",
    "bet = sorted(between_centrality_top_ten, key = lambda tup:tup[1], reverse=True)\n",
    "clo = sorted(closeness_centrality_top_ten, key = lambda tup:tup[1], reverse = True)"
   ]
  },
  {
   "cell_type": "code",
   "execution_count": 42,
   "metadata": {},
   "outputs": [],
   "source": [
    "deg_normal = []\n",
    "for i in range(len(deg)):\n",
    "    sn = deg[i][0][0]\n",
    "    fn = deg[i][0][1]\n",
    "    sc = deg[i][1]\n",
    "    deg_normal.append((fn,sn,sc))\n",
    "\n",
    "bet_normal = []\n",
    "for i in range(len(bet)):\n",
    "    sn = bet[i][0][0]\n",
    "    fn = bet[i][0][1]\n",
    "    sc = bet[i][1]\n",
    "    bet_normal.append((fn,sn,sc))\n",
    "    \n",
    "clo_normal = []\n",
    "for i in range(len(clo)):\n",
    "    sn = clo[i][0][0]\n",
    "    fn = clo[i][0][1]\n",
    "    sc = clo[i][1]\n",
    "    clo_normal.append((fn,sn,sc))    "
   ]
  },
  {
   "cell_type": "code",
   "execution_count": 43,
   "metadata": {},
   "outputs": [],
   "source": [
    "import pandas as pd\n",
    "from pandas import DataFrame\n",
    "\n",
    "df_deg = DataFrame(deg_normal,columns = ['First Name','Surname','Degree Cent']).set_index(pd.Index(list(range(1,11))))\n",
    "df_bet = DataFrame(bet_normal,columns = ['First Name','Surname','Between Cent']).set_index(pd.Index(list(range(1,11))))\n",
    "df_col = DataFrame(clo_normal,columns = ['First Name','Surname','Close Cent']).set_index(pd.Index(list(range(1,11))))"
   ]
  },
  {
   "cell_type": "code",
   "execution_count": 44,
   "metadata": {},
   "outputs": [
    {
     "data": {
      "text/html": [
       "<div>\n",
       "<style scoped>\n",
       "    .dataframe tbody tr th:only-of-type {\n",
       "        vertical-align: middle;\n",
       "    }\n",
       "\n",
       "    .dataframe tbody tr th {\n",
       "        vertical-align: top;\n",
       "    }\n",
       "\n",
       "    .dataframe thead th {\n",
       "        text-align: right;\n",
       "    }\n",
       "</style>\n",
       "<table border=\"1\" class=\"dataframe\">\n",
       "  <thead>\n",
       "    <tr style=\"text-align: right;\">\n",
       "      <th></th>\n",
       "      <th>First Name</th>\n",
       "      <th>Surname</th>\n",
       "      <th>Close Cent</th>\n",
       "    </tr>\n",
       "  </thead>\n",
       "  <tbody>\n",
       "    <tr>\n",
       "      <th>1</th>\n",
       "      <td>NOGA</td>\n",
       "      <td>ALON,</td>\n",
       "      <td>0.388061</td>\n",
       "    </tr>\n",
       "    <tr>\n",
       "      <th>2</th>\n",
       "      <td>RONALD</td>\n",
       "      <td>GRAHAM,</td>\n",
       "      <td>0.386094</td>\n",
       "    </tr>\n",
       "    <tr>\n",
       "      <th>3</th>\n",
       "      <td>ZOLTAN</td>\n",
       "      <td>FUREDI,</td>\n",
       "      <td>0.379996</td>\n",
       "    </tr>\n",
       "    <tr>\n",
       "      <th>4</th>\n",
       "      <td>BELA</td>\n",
       "      <td>BOLLOBAS,</td>\n",
       "      <td>0.375316</td>\n",
       "    </tr>\n",
       "    <tr>\n",
       "      <th>5</th>\n",
       "      <td>VERA</td>\n",
       "      <td>SOS,</td>\n",
       "      <td>0.375008</td>\n",
       "    </tr>\n",
       "    <tr>\n",
       "      <th>6</th>\n",
       "      <td>VOJTECH</td>\n",
       "      <td>RODL,</td>\n",
       "      <td>0.374088</td>\n",
       "    </tr>\n",
       "    <tr>\n",
       "      <th>7</th>\n",
       "      <td>ZSOLT</td>\n",
       "      <td>TUZA,</td>\n",
       "      <td>0.369851</td>\n",
       "    </tr>\n",
       "    <tr>\n",
       "      <th>8</th>\n",
       "      <td>LASZLO</td>\n",
       "      <td>LOVASZ,</td>\n",
       "      <td>0.369253</td>\n",
       "    </tr>\n",
       "    <tr>\n",
       "      <th>9</th>\n",
       "      <td>JOEL</td>\n",
       "      <td>SPENCER,</td>\n",
       "      <td>0.368955</td>\n",
       "    </tr>\n",
       "    <tr>\n",
       "      <th>10</th>\n",
       "      <td>ERNST</td>\n",
       "      <td>STRAUS,</td>\n",
       "      <td>0.362518</td>\n",
       "    </tr>\n",
       "  </tbody>\n",
       "</table>\n",
       "</div>"
      ],
      "text/plain": [
       "   First Name    Surname  Close Cent\n",
       "1        NOGA      ALON,    0.388061\n",
       "2      RONALD    GRAHAM,    0.386094\n",
       "3      ZOLTAN    FUREDI,    0.379996\n",
       "4        BELA  BOLLOBAS,    0.375316\n",
       "5        VERA       SOS,    0.375008\n",
       "6     VOJTECH      RODL,    0.374088\n",
       "7       ZSOLT      TUZA,    0.369851\n",
       "8      LASZLO    LOVASZ,    0.369253\n",
       "9        JOEL   SPENCER,    0.368955\n",
       "10      ERNST    STRAUS,    0.362518"
      ]
     },
     "execution_count": 44,
     "metadata": {},
     "output_type": "execute_result"
    }
   ],
   "source": [
    "df_col"
   ]
  },
  {
   "cell_type": "code",
   "execution_count": 45,
   "metadata": {},
   "outputs": [
    {
     "data": {
      "text/html": [
       "<div>\n",
       "<style scoped>\n",
       "    .dataframe tbody tr th:only-of-type {\n",
       "        vertical-align: middle;\n",
       "    }\n",
       "\n",
       "    .dataframe tbody tr th {\n",
       "        vertical-align: top;\n",
       "    }\n",
       "\n",
       "    .dataframe thead th {\n",
       "        text-align: right;\n",
       "    }\n",
       "</style>\n",
       "<table border=\"1\" class=\"dataframe\">\n",
       "  <thead>\n",
       "    <tr style=\"text-align: right;\">\n",
       "      <th></th>\n",
       "      <th>First Name</th>\n",
       "      <th>Surname</th>\n",
       "      <th>Close Cent</th>\n",
       "    </tr>\n",
       "  </thead>\n",
       "  <tbody>\n",
       "    <tr>\n",
       "      <th>1</th>\n",
       "      <td>NOGA</td>\n",
       "      <td>ALON,</td>\n",
       "      <td>0.388061</td>\n",
       "    </tr>\n",
       "    <tr>\n",
       "      <th>2</th>\n",
       "      <td>RONALD</td>\n",
       "      <td>GRAHAM,</td>\n",
       "      <td>0.386094</td>\n",
       "    </tr>\n",
       "    <tr>\n",
       "      <th>3</th>\n",
       "      <td>ZOLTAN</td>\n",
       "      <td>FUREDI,</td>\n",
       "      <td>0.379996</td>\n",
       "    </tr>\n",
       "    <tr>\n",
       "      <th>4</th>\n",
       "      <td>BELA</td>\n",
       "      <td>BOLLOBAS,</td>\n",
       "      <td>0.375316</td>\n",
       "    </tr>\n",
       "    <tr>\n",
       "      <th>5</th>\n",
       "      <td>VERA</td>\n",
       "      <td>SOS,</td>\n",
       "      <td>0.375008</td>\n",
       "    </tr>\n",
       "    <tr>\n",
       "      <th>6</th>\n",
       "      <td>VOJTECH</td>\n",
       "      <td>RODL,</td>\n",
       "      <td>0.374088</td>\n",
       "    </tr>\n",
       "    <tr>\n",
       "      <th>7</th>\n",
       "      <td>ZSOLT</td>\n",
       "      <td>TUZA,</td>\n",
       "      <td>0.369851</td>\n",
       "    </tr>\n",
       "    <tr>\n",
       "      <th>8</th>\n",
       "      <td>LASZLO</td>\n",
       "      <td>LOVASZ,</td>\n",
       "      <td>0.369253</td>\n",
       "    </tr>\n",
       "    <tr>\n",
       "      <th>9</th>\n",
       "      <td>JOEL</td>\n",
       "      <td>SPENCER,</td>\n",
       "      <td>0.368955</td>\n",
       "    </tr>\n",
       "    <tr>\n",
       "      <th>10</th>\n",
       "      <td>ERNST</td>\n",
       "      <td>STRAUS,</td>\n",
       "      <td>0.362518</td>\n",
       "    </tr>\n",
       "  </tbody>\n",
       "</table>\n",
       "</div>"
      ],
      "text/plain": [
       "   First Name    Surname  Close Cent\n",
       "1        NOGA      ALON,    0.388061\n",
       "2      RONALD    GRAHAM,    0.386094\n",
       "3      ZOLTAN    FUREDI,    0.379996\n",
       "4        BELA  BOLLOBAS,    0.375316\n",
       "5        VERA       SOS,    0.375008\n",
       "6     VOJTECH      RODL,    0.374088\n",
       "7       ZSOLT      TUZA,    0.369851\n",
       "8      LASZLO    LOVASZ,    0.369253\n",
       "9        JOEL   SPENCER,    0.368955\n",
       "10      ERNST    STRAUS,    0.362518"
      ]
     },
     "execution_count": 45,
     "metadata": {},
     "output_type": "execute_result"
    }
   ],
   "source": [
    "df_col"
   ]
  },
  {
   "cell_type": "code",
   "execution_count": 47,
   "metadata": {},
   "outputs": [
    {
     "data": {
      "text/html": [
       "<div>\n",
       "<style scoped>\n",
       "    .dataframe tbody tr th:only-of-type {\n",
       "        vertical-align: middle;\n",
       "    }\n",
       "\n",
       "    .dataframe tbody tr th {\n",
       "        vertical-align: top;\n",
       "    }\n",
       "\n",
       "    .dataframe thead th {\n",
       "        text-align: right;\n",
       "    }\n",
       "</style>\n",
       "<table border=\"1\" class=\"dataframe\">\n",
       "  <thead>\n",
       "    <tr style=\"text-align: right;\">\n",
       "      <th></th>\n",
       "      <th>First Name</th>\n",
       "      <th>Surname</th>\n",
       "      <th>Between Cent</th>\n",
       "    </tr>\n",
       "  </thead>\n",
       "  <tbody>\n",
       "    <tr>\n",
       "      <th>1</th>\n",
       "      <td>FRANK*</td>\n",
       "      <td>HARARY,</td>\n",
       "      <td>0.088450</td>\n",
       "    </tr>\n",
       "    <tr>\n",
       "      <th>2</th>\n",
       "      <td>VERA</td>\n",
       "      <td>SOS,</td>\n",
       "      <td>0.075845</td>\n",
       "    </tr>\n",
       "    <tr>\n",
       "      <th>3</th>\n",
       "      <td>ERNST</td>\n",
       "      <td>STRAUS,</td>\n",
       "      <td>0.073443</td>\n",
       "    </tr>\n",
       "    <tr>\n",
       "      <th>4</th>\n",
       "      <td>CARL</td>\n",
       "      <td>POMERANCE,</td>\n",
       "      <td>0.070884</td>\n",
       "    </tr>\n",
       "    <tr>\n",
       "      <th>5</th>\n",
       "      <td>NOGA</td>\n",
       "      <td>ALON,</td>\n",
       "      <td>0.067121</td>\n",
       "    </tr>\n",
       "    <tr>\n",
       "      <th>6</th>\n",
       "      <td>RONALD</td>\n",
       "      <td>GRAHAM,</td>\n",
       "      <td>0.064127</td>\n",
       "    </tr>\n",
       "    <tr>\n",
       "      <th>7</th>\n",
       "      <td>LEE</td>\n",
       "      <td>RUBEL,</td>\n",
       "      <td>0.057053</td>\n",
       "    </tr>\n",
       "    <tr>\n",
       "      <th>8</th>\n",
       "      <td>HARRY</td>\n",
       "      <td>POLLARD,</td>\n",
       "      <td>0.056283</td>\n",
       "    </tr>\n",
       "    <tr>\n",
       "      <th>9</th>\n",
       "      <td>JANOS</td>\n",
       "      <td>PACH,</td>\n",
       "      <td>0.055706</td>\n",
       "    </tr>\n",
       "    <tr>\n",
       "      <th>10</th>\n",
       "      <td>ANDRAS</td>\n",
       "      <td>HAJNAL,</td>\n",
       "      <td>0.053643</td>\n",
       "    </tr>\n",
       "  </tbody>\n",
       "</table>\n",
       "</div>"
      ],
      "text/plain": [
       "   First Name     Surname  Between Cent\n",
       "1      FRANK*     HARARY,      0.088450\n",
       "2        VERA        SOS,      0.075845\n",
       "3       ERNST     STRAUS,      0.073443\n",
       "4        CARL  POMERANCE,      0.070884\n",
       "5        NOGA       ALON,      0.067121\n",
       "6      RONALD     GRAHAM,      0.064127\n",
       "7         LEE      RUBEL,      0.057053\n",
       "8       HARRY    POLLARD,      0.056283\n",
       "9       JANOS       PACH,      0.055706\n",
       "10     ANDRAS     HAJNAL,      0.053643"
      ]
     },
     "execution_count": 47,
     "metadata": {},
     "output_type": "execute_result"
    }
   ],
   "source": [
    "df_bet"
   ]
  },
  {
   "cell_type": "code",
   "execution_count": 52,
   "metadata": {},
   "outputs": [],
   "source": [
    "degree_centrality_dict = nx.degree_centrality(G)\n",
    "between_centrality_dict = nx.betweenness_centrality(G)\n",
    "closeness_centrality_dict = nx.closeness_centrality(G)"
   ]
  },
  {
   "cell_type": "code",
   "execution_count": 53,
   "metadata": {},
   "outputs": [
    {
     "data": {
      "text/plain": [
       "<AxesSubplot:>"
      ]
     },
     "execution_count": 53,
     "metadata": {},
     "output_type": "execute_result"
    },
    {
     "data": {
      "image/png": "[encoded data removed]",
      "text/plain": [
       "<Figure size 432x288 with 1 Axes>"
      ]
     },
     "metadata": {
      "needs_background": "light"
     },
     "output_type": "display_data"
    }
   ],
   "source": [
    "import seaborn as sns\n",
    "\n",
    "sns.scatterplot(list(degree_centrality_dict.keys()), list(degree_centrality_dict.values()), color = 'green')"
   ]
  },
  {
   "cell_type": "code",
   "execution_count": 54,
   "metadata": {},
   "outputs": [
    {
     "data": {
      "text/plain": [
       "<AxesSubplot:>"
      ]
     },
     "execution_count": 54,
     "metadata": {},
     "output_type": "execute_result"
    },
    {
     "data": {
      "image/png": "[encoded data removed]",
      "text/plain": [
       "<Figure size 432x288 with 1 Axes>"
      ]
     },
     "metadata": {
      "needs_background": "light"
     },
     "output_type": "display_data"
    }
   ],
   "source": [
    "import seaborn as sns\n",
    "\n",
    "sns.scatterplot(list(between_centrality_dict.keys()), list(between_centrality_dict.values()), color = 'red')"
   ]
  },
  {
   "cell_type": "code",
   "execution_count": 55,
   "metadata": {},
   "outputs": [
    {
     "data": {
      "text/plain": [
       "<AxesSubplot:>"
      ]
     },
     "execution_count": 55,
     "metadata": {},
     "output_type": "execute_result"
    },
    {
     "data": {
      "image/png": "[encoded data removed]",
      "text/plain": [
       "<Figure size 432x288 with 1 Axes>"
      ]
     },
     "metadata": {
      "needs_background": "light"
     },
     "output_type": "display_data"
    }
   ],
   "source": [
    "import seaborn as sns\n",
    "\n",
    "sns.scatterplot(list(closeness_centrality_dict.keys()), list(closeness_centrality_dict.values()), color = 'blue')"
   ]
  }
 ],
 "metadata": {
  "kernelspec": {
   "display_name": "Python 3",
   "language": "python",
   "name": "python3"
  },
  "language_info": {
   "codemirror_mode": {
    "name": "ipython",
    "version": 3
   },
   "file_extension": ".py",
   "mimetype": "text/x-python",
   "name": "python",
   "nbconvert_exporter": "python",
   "pygments_lexer": "ipython3",
   "version": "3.6.9"
  }
 },
 "nbformat": 4,
 "nbformat_minor": 4
}
